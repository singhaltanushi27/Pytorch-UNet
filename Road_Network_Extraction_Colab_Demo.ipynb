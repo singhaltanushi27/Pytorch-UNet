{
  "nbformat": 4,
  "nbformat_minor": 0,
  "metadata": {
    "colab": {
      "name": "Road Network Extraction Colab Demo",
      "provenance": [],
      "collapsed_sections": [],
      "include_colab_link": true
    },
    "kernelspec": {
      "name": "python3",
      "display_name": "Python 3"
    },
    "accelerator": "GPU"
  },
  "cells": [
    {
      "cell_type": "markdown",
      "metadata": {
        "id": "view-in-github",
        "colab_type": "text"
      },
      "source": [
        "<a href=\"https://colab.research.google.com/github/singhaltanushi27/Pytorch-UNet/blob/master/Road_Network_Extraction_Colab_Demo.ipynb\" target=\"_parent\"><img src=\"https://colab.research.google.com/assets/colab-badge.svg\" alt=\"Open In Colab\"/></a>"
      ]
    },
    {
      "cell_type": "code",
      "metadata": {
        "id": "og-0W-o8-rQQ",
        "colab": {
          "base_uri": "https://localhost:8080/",
          "height": 360
        },
        "outputId": "7ee9b9a7-b0cc-4dcb-d2c2-fc1ff5a605d1"
      },
      "source": [
        "#Setup Google Drive Integration\n",
        "\n",
        "!apt-get install -y -qq software-properties-common python-software-properties module-init-tools\n",
        "!add-apt-repository -y ppa:alessandro-strada/ppa 2>&1 > /dev/null\n",
        "!apt-get update -qq 2>&1 > /dev/null\n",
        "!apt-get -y install -qq google-drive-ocamlfuse fuse\n",
        "from google.colab import auth\n",
        "auth.authenticate_user()\n",
        "from oauth2client.client import GoogleCredentials\n",
        "creds = GoogleCredentials.get_application_default()\n",
        "import getpass\n",
        "!google-drive-ocamlfuse -headless -id={creds.client_id} -secret={creds.client_secret} < /dev/null 2>&1 | grep URL\n",
        "vcode = getpass.getpass()\n",
        "!echo {vcode} | google-drive-ocamlfuse -headless -id={creds.client_id} -secret={creds.client_secret}\n",
        "\n",
        "!mkdir -p drive\n",
        "!google-drive-ocamlfuse drive -o nonempty"
      ],
      "execution_count": null,
      "outputs": [
        {
          "output_type": "stream",
          "text": [
            "E: Package 'python-software-properties' has no installation candidate\n",
            "Selecting previously unselected package libfuse2:amd64.\n",
            "(Reading database ... 22278 files and directories currently installed.)\n",
            "Preparing to unpack .../libfuse2_2.9.7-1ubuntu1_amd64.deb ...\n",
            "Unpacking libfuse2:amd64 (2.9.7-1ubuntu1) ...\n",
            "Selecting previously unselected package fuse.\n",
            "Preparing to unpack .../fuse_2.9.7-1ubuntu1_amd64.deb ...\n",
            "Unpacking fuse (2.9.7-1ubuntu1) ...\n",
            "Selecting previously unselected package google-drive-ocamlfuse.\n",
            "Preparing to unpack .../google-drive-ocamlfuse_0.7.0-0ubuntu1~ubuntu18.04.1_amd64.deb ...\n",
            "Unpacking google-drive-ocamlfuse (0.7.0-0ubuntu1~ubuntu18.04.1) ...\n",
            "Setting up libfuse2:amd64 (2.9.7-1ubuntu1) ...\n",
            "Processing triggers for libc-bin (2.27-3ubuntu1) ...\n",
            "Setting up fuse (2.9.7-1ubuntu1) ...\n",
            "Setting up google-drive-ocamlfuse (0.7.0-0ubuntu1~ubuntu18.04.1) ...\n",
            "Please, open the following URL in a web browser: https://accounts.google.com/o/oauth2/auth?client_id=32555940559.apps.googleusercontent.com&redirect_uri=urn%3Aietf%3Awg%3Aoauth%3A2.0%3Aoob&scope=https%3A%2F%2Fwww.googleapis.com%2Fauth%2Fdrive&response_type=code&access_type=offline&approval_prompt=force\n",
            "··········\n",
            "Please, open the following URL in a web browser: https://accounts.google.com/o/oauth2/auth?client_id=32555940559.apps.googleusercontent.com&redirect_uri=urn%3Aietf%3Awg%3Aoauth%3A2.0%3Aoob&scope=https%3A%2F%2Fwww.googleapis.com%2Fauth%2Fdrive&response_type=code&access_type=offline&approval_prompt=force\n",
            "Please enter the verification code: Access token retrieved correctly.\n"
          ],
          "name": "stdout"
        }
      ]
    },
    {
      "cell_type": "code",
      "metadata": {
        "id": "IQO9PVCD4vC2"
      },
      "source": [
        "# http://pytorch.org/\n",
        "from os import path\n",
        "from wheel.pep425tags import get_abbr_impl, get_impl_ver, get_abi_tag\n",
        "platform = '{}{}-{}'.format(get_abbr_impl(), get_impl_ver(), get_abi_tag())\n",
        "\n",
        "accelerator = 'cu80' if path.exists('/opt/bin/nvidia-smi') else 'cpu'\n",
        "\n",
        "!pip install -q http://download.pytorch.org/whl/{accelerator}/torch-0.3.0.post4-{platform}-linux_x86_64.whl torchvision\n",
        "import torch"
      ],
      "execution_count": null,
      "outputs": []
    },
    {
      "cell_type": "code",
      "metadata": {
        "id": "ZS4ewO3D-6fD",
        "colab": {
          "base_uri": "https://localhost:8080/",
          "height": 153
        },
        "outputId": "37878edc-c2b0-4bfa-ddd2-5785d425cd7c"
      },
      "source": [
        "#Fast.AI Setup\n",
        "!git clone https://github.com/fastai/fastai.git\n",
        "import os\n",
        "os.chdir(\"fastai\")\n",
        "!git pull"
      ],
      "execution_count": null,
      "outputs": [
        {
          "output_type": "stream",
          "text": [
            "Cloning into 'fastai'...\n",
            "remote: Enumerating objects: 28, done.\u001b[K\n",
            "remote: Counting objects:   3% (1/28)   \u001b[K\rremote: Counting objects:   7% (2/28)   \u001b[K\rremote: Counting objects:  10% (3/28)   \u001b[K\rremote: Counting objects:  14% (4/28)   \u001b[K\rremote: Counting objects:  17% (5/28)   \u001b[K\rremote: Counting objects:  21% (6/28)   \u001b[K\rremote: Counting objects:  25% (7/28)   \u001b[K\rremote: Counting objects:  28% (8/28)   \u001b[K\rremote: Counting objects:  32% (9/28)   \u001b[K\rremote: Counting objects:  35% (10/28)   \u001b[K\rremote: Counting objects:  39% (11/28)   \u001b[K\rremote: Counting objects:  42% (12/28)   \u001b[K\rremote: Counting objects:  46% (13/28)   \u001b[K\rremote: Counting objects:  50% (14/28)   \u001b[K\rremote: Counting objects:  53% (15/28)   \u001b[K\rremote: Counting objects:  57% (16/28)   \u001b[K\rremote: Counting objects:  60% (17/28)   \u001b[K\rremote: Counting objects:  64% (18/28)   \u001b[K\rremote: Counting objects:  67% (19/28)   \u001b[K\rremote: Counting objects:  71% (20/28)   \u001b[K\rremote: Counting objects:  75% (21/28)   \u001b[K\rremote: Counting objects:  78% (22/28)   \u001b[K\rremote: Counting objects:  82% (23/28)   \u001b[K\rremote: Counting objects:  85% (24/28)   \u001b[K\rremote: Counting objects:  89% (25/28)   \u001b[K\rremote: Counting objects:  92% (26/28)   \u001b[K\rremote: Counting objects:  96% (27/28)   \u001b[K\rremote: Counting objects: 100% (28/28)   \u001b[K\rremote: Counting objects: 100% (28/28), done.\u001b[K\n",
            "remote: Compressing objects: 100% (23/23), done.\u001b[K\n",
            "remote: Total 10559 (delta 11), reused 13 (delta 5), pack-reused 10531\u001b[K\n",
            "Receiving objects: 100% (10559/10559), 205.02 MiB | 25.24 MiB/s, done.\n",
            "Resolving deltas: 100% (6726/6726), done.\n",
            "Already up to date.\n"
          ],
          "name": "stdout"
        }
      ]
    },
    {
      "cell_type": "code",
      "metadata": {
        "id": "HLpl6fVt_sRU",
        "colab": {
          "base_uri": "https://localhost:8080/",
          "height": 1703
        },
        "outputId": "0e39c446-9862-40aa-b899-b77df821e7a4"
      },
      "source": [
        "os.chdir(\"..\")\n",
        "!pip install https://github.com/fastai/fastai/archive/master.zip"
      ],
      "execution_count": null,
      "outputs": [
        {
          "output_type": "stream",
          "text": [
            "Collecting https://github.com/fastai/fastai/archive/master.zip\n",
            "  Downloading https://github.com/fastai/fastai/archive/master.zip\n",
            "\u001b[K     - 121.0MB 91.9MB/s\n",
            "Collecting fastprogress>=0.1.10 (from fastai==1.0.12.dev0)\n",
            "  Downloading https://files.pythonhosted.org/packages/ba/78/460d7032fdba5579b5e8945cefba8aed7bb730a13da3bcf92ebd61866281/fastprogress-0.1.10-py3-none-any.whl\n",
            "Requirement already satisfied: ipython in /usr/local/lib/python3.6/dist-packages (from fastai==1.0.12.dev0) (5.5.0)\n",
            "Collecting jupyter (from fastai==1.0.12.dev0)\n",
            "  Downloading https://files.pythonhosted.org/packages/83/df/0f5dd132200728a86190397e1ea87cd76244e42d39ec5e88efd25b2abd7e/jupyter-1.0.0-py2.py3-none-any.whl\n",
            "Requirement already satisfied: matplotlib in /usr/local/lib/python3.6/dist-packages (from fastai==1.0.12.dev0) (2.1.2)\n",
            "Requirement already satisfied: nbconvert in /usr/local/lib/python3.6/dist-packages (from fastai==1.0.12.dev0) (5.4.0)\n",
            "Requirement already satisfied: nbformat in /usr/local/lib/python3.6/dist-packages (from fastai==1.0.12.dev0) (4.4.0)\n",
            "Collecting numpy>=1.15 (from fastai==1.0.12.dev0)\n",
            "\u001b[?25l  Downloading https://files.pythonhosted.org/packages/22/02/bae88c4aaea4256d890adbf3f7cf33e59a443f9985cf91cd08a35656676a/numpy-1.15.2-cp36-cp36m-manylinux1_x86_64.whl (13.9MB)\n",
            "\u001b[K    100% |████████████████████████████████| 13.9MB 3.3MB/s \n",
            "\u001b[?25hRequirement already satisfied: pandas in /usr/local/lib/python3.6/dist-packages (from fastai==1.0.12.dev0) (0.22.0)\n",
            "Requirement already satisfied: Pillow in /usr/local/lib/python3.6/dist-packages (from fastai==1.0.12.dev0) (5.3.0)\n",
            "Requirement already satisfied: requests in /usr/local/lib/python3.6/dist-packages (from fastai==1.0.12.dev0) (2.18.4)\n",
            "Requirement already satisfied: scipy in /usr/local/lib/python3.6/dist-packages (from fastai==1.0.12.dev0) (0.19.1)\n",
            "Requirement already satisfied: spacy==2.0.16 in /usr/local/lib/python3.6/dist-packages (from fastai==1.0.12.dev0) (2.0.16)\n",
            "Requirement already satisfied: regex in /usr/local/lib/python3.6/dist-packages (from fastai==1.0.12.dev0) (2018.1.10)\n",
            "Requirement already satisfied: thinc==6.12.0 in /usr/local/lib/python3.6/dist-packages (from fastai==1.0.12.dev0) (6.12.0)\n",
            "Requirement already satisfied: cymem==2.0.2 in /usr/local/lib/python3.6/dist-packages (from fastai==1.0.12.dev0) (2.0.2)\n",
            "Collecting torchvision-nightly (from fastai==1.0.12.dev0)\n",
            "\u001b[?25l  Downloading https://files.pythonhosted.org/packages/ca/bd/d0f9a33c81c79710eb7ee428b66869b49a8be16c7f1e446c211a7fbfb7be/torchvision_nightly-0.2.1-py2.py3-none-any.whl (54kB)\n",
            "\u001b[K    100% |████████████████████████████████| 61kB 25.3MB/s \n",
            "\u001b[?25hRequirement already satisfied: traitlets in /usr/local/lib/python3.6/dist-packages (from fastai==1.0.12.dev0) (4.3.2)\n",
            "Requirement already satisfied: typing in /usr/local/lib/python3.6/dist-packages (from fastai==1.0.12.dev0) (3.6.6)\n",
            "Requirement already satisfied: pyyaml in /usr/local/lib/python3.6/dist-packages (from fastai==1.0.12.dev0) (3.13)\n",
            "Collecting dataclasses (from fastai==1.0.12.dev0)\n",
            "  Downloading https://files.pythonhosted.org/packages/26/2f/1095cdc2868052dd1e64520f7c0d5c8c550ad297e944e641dbf1ffbb9a5d/dataclasses-0.6-py3-none-any.whl\n",
            "Requirement already satisfied: setuptools>=18.5 in /usr/local/lib/python3.6/dist-packages (from ipython->fastai==1.0.12.dev0) (40.4.3)\n",
            "Requirement already satisfied: decorator in /usr/local/lib/python3.6/dist-packages (from ipython->fastai==1.0.12.dev0) (4.3.0)\n",
            "Requirement already satisfied: pygments in /usr/local/lib/python3.6/dist-packages (from ipython->fastai==1.0.12.dev0) (2.1.3)\n",
            "Requirement already satisfied: pickleshare in /usr/local/lib/python3.6/dist-packages (from ipython->fastai==1.0.12.dev0) (0.7.5)\n",
            "Requirement already satisfied: simplegeneric>0.8 in /usr/local/lib/python3.6/dist-packages (from ipython->fastai==1.0.12.dev0) (0.8.1)\n",
            "Requirement already satisfied: pexpect; sys_platform != \"win32\" in /usr/local/lib/python3.6/dist-packages (from ipython->fastai==1.0.12.dev0) (4.6.0)\n",
            "Requirement already satisfied: prompt-toolkit<2.0.0,>=1.0.4 in /usr/local/lib/python3.6/dist-packages (from ipython->fastai==1.0.12.dev0) (1.0.15)\n",
            "Requirement already satisfied: notebook in /usr/local/lib/python3.6/dist-packages (from jupyter->fastai==1.0.12.dev0) (5.2.2)\n",
            "Collecting qtconsole (from jupyter->fastai==1.0.12.dev0)\n",
            "\u001b[?25l  Downloading https://files.pythonhosted.org/packages/37/22/0d8474f78a8c421d485ac2339de7c871d535160f09f170de90c8185b87c4/qtconsole-4.4.2-py2.py3-none-any.whl (112kB)\n",
            "\u001b[K    100% |████████████████████████████████| 112kB 31.3MB/s \n",
            "\u001b[?25hCollecting ipywidgets (from jupyter->fastai==1.0.12.dev0)\n",
            "\u001b[?25l  Downloading https://files.pythonhosted.org/packages/30/9a/a008c7b1183fac9e52066d80a379b3c64eab535bd9d86cdc29a0b766fd82/ipywidgets-7.4.2-py2.py3-none-any.whl (111kB)\n",
            "\u001b[K    100% |████████████████████████████████| 112kB 30.6MB/s \n",
            "\u001b[?25hRequirement already satisfied: ipykernel in /usr/local/lib/python3.6/dist-packages (from jupyter->fastai==1.0.12.dev0) (4.6.1)\n",
            "Collecting jupyter-console (from jupyter->fastai==1.0.12.dev0)\n",
            "  Downloading https://files.pythonhosted.org/packages/cb/ee/6374ae8c21b7d0847f9c3722dcdfac986b8e54fa9ad9ea66e1eb6320d2b8/jupyter_console-6.0.0-py2.py3-none-any.whl\n",
            "Requirement already satisfied: python-dateutil>=2.1 in /usr/local/lib/python3.6/dist-packages (from matplotlib->fastai==1.0.12.dev0) (2.5.3)\n",
            "Requirement already satisfied: six>=1.10 in /usr/local/lib/python3.6/dist-packages (from matplotlib->fastai==1.0.12.dev0) (1.11.0)\n",
            "Requirement already satisfied: pytz in /usr/local/lib/python3.6/dist-packages (from matplotlib->fastai==1.0.12.dev0) (2018.5)\n",
            "Requirement already satisfied: cycler>=0.10 in /usr/local/lib/python3.6/dist-packages (from matplotlib->fastai==1.0.12.dev0) (0.10.0)\n",
            "Requirement already satisfied: pyparsing!=2.0.4,!=2.1.2,!=2.1.6,>=2.0.1 in /usr/local/lib/python3.6/dist-packages (from matplotlib->fastai==1.0.12.dev0) (2.2.2)\n",
            "Requirement already satisfied: jinja2 in /usr/local/lib/python3.6/dist-packages (from nbconvert->fastai==1.0.12.dev0) (2.10)\n",
            "Requirement already satisfied: jupyter-core in /usr/local/lib/python3.6/dist-packages (from nbconvert->fastai==1.0.12.dev0) (4.4.0)\n",
            "Requirement already satisfied: entrypoints>=0.2.2 in /usr/local/lib/python3.6/dist-packages (from nbconvert->fastai==1.0.12.dev0) (0.2.3)\n",
            "Requirement already satisfied: bleach in /usr/local/lib/python3.6/dist-packages (from nbconvert->fastai==1.0.12.dev0) (3.0.2)\n",
            "Requirement already satisfied: pandocfilters>=1.4.1 in /usr/local/lib/python3.6/dist-packages (from nbconvert->fastai==1.0.12.dev0) (1.4.2)\n",
            "Requirement already satisfied: defusedxml in /usr/local/lib/python3.6/dist-packages (from nbconvert->fastai==1.0.12.dev0) (0.5.0)\n",
            "Requirement already satisfied: mistune>=0.8.1 in /usr/local/lib/python3.6/dist-packages (from nbconvert->fastai==1.0.12.dev0) (0.8.4)\n",
            "Requirement already satisfied: testpath in /usr/local/lib/python3.6/dist-packages (from nbconvert->fastai==1.0.12.dev0) (0.4.2)\n",
            "Requirement already satisfied: jsonschema!=2.5.0,>=2.4 in /usr/local/lib/python3.6/dist-packages (from nbformat->fastai==1.0.12.dev0) (2.6.0)\n",
            "Requirement already satisfied: ipython-genutils in /usr/local/lib/python3.6/dist-packages (from nbformat->fastai==1.0.12.dev0) (0.2.0)\n",
            "Requirement already satisfied: certifi>=2017.4.17 in /usr/local/lib/python3.6/dist-packages (from requests->fastai==1.0.12.dev0) (2018.10.15)\n",
            "Requirement already satisfied: urllib3<1.23,>=1.21.1 in /usr/local/lib/python3.6/dist-packages (from requests->fastai==1.0.12.dev0) (1.22)\n",
            "Requirement already satisfied: chardet<3.1.0,>=3.0.2 in /usr/local/lib/python3.6/dist-packages (from requests->fastai==1.0.12.dev0) (3.0.4)\n",
            "Requirement already satisfied: idna<2.7,>=2.5 in /usr/local/lib/python3.6/dist-packages (from requests->fastai==1.0.12.dev0) (2.6)\n",
            "Requirement already satisfied: plac<1.0.0,>=0.9.6 in /usr/local/lib/python3.6/dist-packages (from spacy==2.0.16->fastai==1.0.12.dev0) (0.9.6)\n",
            "Requirement already satisfied: preshed<2.1.0,>=2.0.1 in /usr/local/lib/python3.6/dist-packages (from spacy==2.0.16->fastai==1.0.12.dev0) (2.0.1)\n",
            "Requirement already satisfied: ujson>=1.35 in /usr/local/lib/python3.6/dist-packages (from spacy==2.0.16->fastai==1.0.12.dev0) (1.35)\n",
            "Requirement already satisfied: dill<0.3,>=0.2 in /usr/local/lib/python3.6/dist-packages (from spacy==2.0.16->fastai==1.0.12.dev0) (0.2.8.2)\n",
            "Requirement already satisfied: msgpack-numpy<0.4.4 in /usr/local/lib/python3.6/dist-packages (from spacy==2.0.16->fastai==1.0.12.dev0) (0.4.3.2)\n",
            "Requirement already satisfied: murmurhash<1.1.0,>=0.28.0 in /usr/local/lib/python3.6/dist-packages (from spacy==2.0.16->fastai==1.0.12.dev0) (1.0.1)\n",
            "Requirement already satisfied: wrapt<1.11.0,>=1.10.0 in /usr/local/lib/python3.6/dist-packages (from thinc==6.12.0->fastai==1.0.12.dev0) (1.10.11)\n",
            "Requirement already satisfied: tqdm<5.0.0,>=4.10.0 in /usr/local/lib/python3.6/dist-packages (from thinc==6.12.0->fastai==1.0.12.dev0) (4.27.0)\n",
            "Requirement already satisfied: cytoolz<0.10,>=0.9.0 in /usr/local/lib/python3.6/dist-packages (from thinc==6.12.0->fastai==1.0.12.dev0) (0.9.0.1)\n",
            "Requirement already satisfied: msgpack<1.0.0,>=0.5.6 in /usr/local/lib/python3.6/dist-packages (from thinc==6.12.0->fastai==1.0.12.dev0) (0.5.6)\n",
            "Requirement already satisfied: ptyprocess>=0.5 in /usr/local/lib/python3.6/dist-packages (from pexpect; sys_platform != \"win32\"->ipython->fastai==1.0.12.dev0) (0.6.0)\n",
            "Requirement already satisfied: wcwidth in /usr/local/lib/python3.6/dist-packages (from prompt-toolkit<2.0.0,>=1.0.4->ipython->fastai==1.0.12.dev0) (0.1.7)\n",
            "Requirement already satisfied: jupyter-client in /usr/local/lib/python3.6/dist-packages (from notebook->jupyter->fastai==1.0.12.dev0) (5.2.3)\n",
            "Requirement already satisfied: terminado>=0.3.3; sys_platform != \"win32\" in /usr/local/lib/python3.6/dist-packages (from notebook->jupyter->fastai==1.0.12.dev0) (0.8.1)\n",
            "Requirement already satisfied: tornado>=4 in /usr/local/lib/python3.6/dist-packages (from notebook->jupyter->fastai==1.0.12.dev0) (4.5.3)\n",
            "Collecting widgetsnbextension~=3.4.0 (from ipywidgets->jupyter->fastai==1.0.12.dev0)\n",
            "\u001b[?25l  Downloading https://files.pythonhosted.org/packages/8a/81/35789a3952afb48238289171728072d26d6e76649ddc8b3588657a2d78c1/widgetsnbextension-3.4.2-py2.py3-none-any.whl (2.2MB)\n",
            "\u001b[K    100% |████████████████████████████████| 2.2MB 1.4MB/s \n",
            "\u001b[?25hRequirement already satisfied: MarkupSafe>=0.23 in /usr/local/lib/python3.6/dist-packages (from jinja2->nbconvert->fastai==1.0.12.dev0) (1.0)\n",
            "Requirement already satisfied: webencodings in /usr/local/lib/python3.6/dist-packages (from bleach->nbconvert->fastai==1.0.12.dev0) (0.5.1)\n",
            "Requirement already satisfied: toolz>=0.8.0 in /usr/local/lib/python3.6/dist-packages (from cytoolz<0.10,>=0.9.0->thinc==6.12.0->fastai==1.0.12.dev0) (0.9.0)\n",
            "Requirement already satisfied: pyzmq>=13 in /usr/local/lib/python3.6/dist-packages (from jupyter-client->notebook->jupyter->fastai==1.0.12.dev0) (16.0.4)\n",
            "Building wheels for collected packages: fastai\n",
            "  Running setup.py bdist_wheel for fastai ... \u001b[?25l-\b \b\\\b \bdone\n",
            "\u001b[?25h  Stored in directory: /tmp/pip-ephem-wheel-cache-gwjvs_q8/wheels/64/3d/9f/d12a217aa2531321c5b9ae96288fcae2687d3b744376e8f94f\n",
            "Successfully built fastai\n",
            "\u001b[31mjupyter-console 6.0.0 has requirement prompt-toolkit<2.1.0,>=2.0.0, but you'll have prompt-toolkit 1.0.15 which is incompatible.\u001b[0m\n",
            "Installing collected packages: fastprogress, qtconsole, widgetsnbextension, ipywidgets, jupyter-console, jupyter, numpy, torchvision-nightly, dataclasses, fastai\n",
            "  Found existing installation: numpy 1.14.6\n",
            "    Uninstalling numpy-1.14.6:\n",
            "      Successfully uninstalled numpy-1.14.6\n",
            "Successfully installed dataclasses-0.6 fastai-1.0.12.dev0 fastprogress-0.1.10 ipywidgets-7.4.2 jupyter-1.0.0 jupyter-console-6.0.0 numpy-1.15.2 qtconsole-4.4.2 torchvision-nightly-0.2.1 widgetsnbextension-3.4.2\n"
          ],
          "name": "stdout"
        }
      ]
    },
    {
      "cell_type": "markdown",
      "metadata": {
        "id": "3XZcwIVkExBo"
      },
      "source": [
        "# New Section"
      ]
    },
    {
      "cell_type": "code",
      "metadata": {
        "id": "vaJiuKcp5XZ3",
        "colab": {
          "base_uri": "https://localhost:8080/",
          "height": 238
        },
        "outputId": "3b465a3a-dbbb-410a-e163-e41c756cdb77"
      },
      "source": [
        "# To install for GPU run- !pip install torch torchvision (and change runtime gpu to GPU-->Go to Runtime-->Select change Runtime type-->select GPU)\n",
        "\n",
        "!pip install http://download.pytorch.org/whl/cpu/torch-0.4.1-cp36-cp36m-linux_x86_64.whl \n",
        "!pip install torchvision"
      ],
      "execution_count": null,
      "outputs": [
        {
          "output_type": "stream",
          "text": [
            "Collecting torch==0.4.1 from http://download.pytorch.org/whl/cpu/torch-0.4.1-cp36-cp36m-linux_x86_64.whl\n",
            "\u001b[?25l  Downloading http://download.pytorch.org/whl/cpu/torch-0.4.1-cp36-cp36m-linux_x86_64.whl (91.1MB)\n",
            "\u001b[K    100% |████████████████████████████████| 91.1MB 87.3MB/s \n",
            "\u001b[?25hInstalling collected packages: torch\n",
            "  Found existing installation: torch 0.3.0.post4\n",
            "    Uninstalling torch-0.3.0.post4:\n",
            "      Successfully uninstalled torch-0.3.0.post4\n",
            "Successfully installed torch-0.4.1\n",
            "Requirement already satisfied: torchvision in /usr/local/lib/python3.6/dist-packages (0.2.1)\n",
            "Requirement already satisfied: six in /usr/local/lib/python3.6/dist-packages (from torchvision) (1.11.0)\n",
            "Requirement already satisfied: pillow>=4.1.1 in /usr/local/lib/python3.6/dist-packages (from torchvision) (5.3.0)\n",
            "Requirement already satisfied: torch in /usr/local/lib/python3.6/dist-packages (from torchvision) (0.4.1)\n",
            "Requirement already satisfied: numpy in /usr/local/lib/python3.6/dist-packages (from torchvision) (1.15.2)\n"
          ],
          "name": "stdout"
        }
      ]
    },
    {
      "cell_type": "code",
      "metadata": {
        "id": "51iIyMUDkGIp",
        "colab": {
          "base_uri": "https://localhost:8080/",
          "height": 34
        },
        "outputId": "143d39d7-0b98-414a-c3a8-c43935968406"
      },
      "source": [
        "os.listdir('./')"
      ],
      "execution_count": null,
      "outputs": [
        {
          "output_type": "execute_result",
          "data": {
            "text/plain": [
              "['.config', 'sample_data', 'drive', 'fastai', 'adc.json']"
            ]
          },
          "metadata": {
            "tags": []
          },
          "execution_count": 6
        }
      ]
    },
    {
      "cell_type": "code",
      "metadata": {
        "id": "Gl5JAEkzkc32",
        "colab": {
          "base_uri": "https://localhost:8080/",
          "height": 34
        },
        "outputId": "66513171-bd85-4058-d5bd-ba1764fc89a7"
      },
      "source": [
        "import torch\n",
        "print(torch.__version__)"
      ],
      "execution_count": null,
      "outputs": [
        {
          "output_type": "stream",
          "text": [
            "0.3.0.post4\n"
          ],
          "name": "stdout"
        }
      ]
    },
    {
      "cell_type": "code",
      "metadata": {
        "id": "Ir47NyFS41Yu",
        "colab": {
          "base_uri": "https://localhost:8080/",
          "height": 153
        },
        "outputId": "c329f13f-21e1-494d-ee58-6a2f32c7eba8"
      },
      "source": [
        "!git clone https://github.com/akshaybhatia10/RoadNetworkExtraction-MoveHack\n",
        "os.chdir('./RoadNetworkExtraction-MoveHack')"
      ],
      "execution_count": null,
      "outputs": [
        {
          "output_type": "stream",
          "text": [
            "Cloning into 'RoadNetworkExtraction-MoveHack'...\n",
            "remote: Enumerating objects: 81, done.\u001b[K\n",
            "remote: Counting objects:   1% (1/81)   \u001b[K\rremote: Counting objects:   2% (2/81)   \u001b[K\rremote: Counting objects:   3% (3/81)   \u001b[K\rremote: Counting objects:   4% (4/81)   \u001b[K\rremote: Counting objects:   6% (5/81)   \u001b[K\rremote: Counting objects:   7% (6/81)   \u001b[K\rremote: Counting objects:   8% (7/81)   \u001b[K\rremote: Counting objects:   9% (8/81)   \u001b[K\rremote: Counting objects:  11% (9/81)   \u001b[K\rremote: Counting objects:  12% (10/81)   \u001b[K\rremote: Counting objects:  13% (11/81)   \u001b[K\rremote: Counting objects:  14% (12/81)   \u001b[K\rremote: Counting objects:  16% (13/81)   \u001b[K\rremote: Counting objects:  17% (14/81)   \u001b[K\rremote: Counting objects:  18% (15/81)   \u001b[K\rremote: Counting objects:  19% (16/81)   \u001b[K\rremote: Counting objects:  20% (17/81)   \u001b[K\rremote: Counting objects:  22% (18/81)   \u001b[K\rremote: Counting objects:  23% (19/81)   \u001b[K\rremote: Counting objects:  24% (20/81)   \u001b[K\rremote: Counting objects:  25% (21/81)   \u001b[K\rremote: Counting objects:  27% (22/81)   \u001b[K\rremote: Counting objects:  28% (23/81)   \u001b[K\rremote: Counting objects:  29% (24/81)   \u001b[K\rremote: Counting objects:  30% (25/81)   \u001b[K\rremote: Counting objects:  32% (26/81)   \u001b[K\rremote: Counting objects:  33% (27/81)   \u001b[K\rremote: Counting objects:  34% (28/81)   \u001b[K\rremote: Counting objects:  35% (29/81)   \u001b[K\rremote: Counting objects:  37% (30/81)   \u001b[K\rremote: Counting objects:  38% (31/81)   \u001b[K\rremote: Counting objects:  39% (32/81)   \u001b[K\rremote: Counting objects:  40% (33/81)   \u001b[K\rremote: Counting objects:  41% (34/81)   \u001b[K\rremote: Counting objects:  43% (35/81)   \u001b[K\rremote: Counting objects:  44% (36/81)   \u001b[K\rremote: Counting objects:  45% (37/81)   \u001b[K\rremote: Counting objects:  46% (38/81)   \u001b[K\rremote: Counting objects:  48% (39/81)   \u001b[K\rremote: Counting objects:  49% (40/81)   \u001b[K\rremote: Counting objects:  50% (41/81)   \u001b[K\rremote: Counting objects:  51% (42/81)   \u001b[K\rremote: Counting objects:  53% (43/81)   \u001b[K\rremote: Counting objects:  54% (44/81)   \u001b[K\rremote: Counting objects:  55% (45/81)   \u001b[K\rremote: Counting objects:  56% (46/81)   \u001b[K\rremote: Counting objects:  58% (47/81)   \u001b[K\rremote: Counting objects:  59% (48/81)   \u001b[K\rremote: Counting objects:  60% (49/81)   \u001b[K\rremote: Counting objects:  61% (50/81)   \u001b[K\rremote: Counting objects:  62% (51/81)   \u001b[K\rremote: Counting objects:  64% (52/81)   \u001b[K\rremote: Counting objects:  65% (53/81)   \u001b[K\rremote: Counting objects:  66% (54/81)   \u001b[K\rremote: Counting objects:  67% (55/81)   \u001b[K\rremote: Counting objects:  69% (56/81)   \u001b[K\rremote: Counting objects:  70% (57/81)   \u001b[K\rremote: Counting objects:  71% (58/81)   \u001b[K\rremote: Counting objects:  72% (59/81)   \u001b[K\rremote: Counting objects:  74% (60/81)   \u001b[K\rremote: Counting objects:  75% (61/81)   \u001b[K\rremote: Counting objects:  76% (62/81)   \u001b[K\rremote: Counting objects:  77% (63/81)   \u001b[K\rremote: Counting objects:  79% (64/81)   \u001b[K\rremote: Counting objects:  80% (65/81)   \u001b[K\rremote: Counting objects:  81% (66/81)   \u001b[K\rremote: Counting objects:  82% (67/81)   \u001b[K\rremote: Counting objects:  83% (68/81)   \u001b[K\rremote: Counting objects:  85% (69/81)   \u001b[K\rremote: Counting objects:  86% (70/81)   \u001b[K\rremote: Counting objects:  87% (71/81)   \u001b[K\rremote: Counting objects:  88% (72/81)   \u001b[K\rremote: Counting objects:  90% (73/81)   \u001b[K\rremote: Counting objects:  91% (74/81)   \u001b[K\rremote: Counting objects:  92% (75/81)   \u001b[K\rremote: Counting objects:  93% (76/81)   \u001b[K\rremote: Counting objects:  95% (77/81)   \u001b[K\rremote: Counting objects:  96% (78/81)   \u001b[K\rremote: Counting objects:  97% (79/81)   \u001b[K\rremote: Counting objects:  98% (80/81)   \u001b[K\rremote: Counting objects: 100% (81/81)   \u001b[K\rremote: Counting objects: 100% (81/81), done.\u001b[K\n",
            "remote: Compressing objects: 100% (63/63), done.\u001b[K\n",
            "remote: Total 268 (delta 38), reused 45 (delta 14), pack-reused 187\u001b[K\n",
            "Receiving objects: 100% (268/268), 540.50 MiB | 30.71 MiB/s, done.\n",
            "Resolving deltas: 100% (60/60), done.\n",
            "Checking out files: 100% (21/21), done.\n"
          ],
          "name": "stdout"
        }
      ]
    },
    {
      "cell_type": "code",
      "metadata": {
        "id": "_wkexIRt3F57",
        "colab": {
          "base_uri": "https://localhost:8080/",
          "height": 119
        },
        "outputId": "2a3c13c5-d156-404f-d750-11c5ea7f293b"
      },
      "source": [
        "# To test on a different image, change --test_img argument with your image path e.g:\n",
        "# !python main.py --mode test --test_img path/to/image\n",
        "\n",
        "# Runs using CPU\n",
        "!python main.py --mode test --test_img test_images/10378780_15.png"
      ],
      "execution_count": null,
      "outputs": [
        {
          "output_type": "stream",
          "text": [
            "Traceback (most recent call last):\n",
            "  File \"main.py\", line 5, in <module>\n",
            "    from dataset import *\n",
            "  File \"/content/RoadNetworkExtraction-MoveHack/dataset.py\", line 7, in <module>\n",
            "    from fastai.conv_learner import *\n",
            "ModuleNotFoundError: No module named 'fastai.conv_learner'\n"
          ],
          "name": "stdout"
        }
      ]
    },
    {
      "cell_type": "code",
      "metadata": {
        "id": "BeEAapq03Zsr",
        "colab": {
          "base_uri": "https://localhost:8080/",
          "height": 68
        },
        "outputId": "d8e50f11-c1de-4cd3-d3a7-05d4b71bbde8"
      },
      "source": [
        "!ls"
      ],
      "execution_count": null,
      "outputs": [
        {
          "output_type": "stream",
          "text": [
            "assets\t    env.yml    mass_roads  __pycache__\ttest_images\n",
            "conda.sh    helper.py  model.py    README.md\n",
            "dataset.py  main.py    models\t   setup.sh\n"
          ],
          "name": "stdout"
        }
      ]
    },
    {
      "cell_type": "code",
      "metadata": {
        "id": "3fOwNrfl3gnG",
        "colab": {
          "base_uri": "https://localhost:8080/",
          "height": 68
        },
        "outputId": "21f6c9a4-1c91-4530-f105-7be88c9f1b3c"
      },
      "source": [
        "# Output files saved in current directory as :\n",
        "# - 1024_imagename.png (1024x1024 version of image)\n",
        "# - masked_imagename.png (mask generated by network)\n",
        "# - overlay_imagename.png (mask overlaid on original)\n",
        "\n",
        "from IPython.display import Image, display\n",
        "display(Image('1024_10378780_15.png'))\n",
        "display(Image('masked_10378780_15.png'))\n",
        "display(Image('overlay_10378780_15.png'))"
      ],
      "execution_count": null,
      "outputs": [
        {
          "output_type": "display_data",
          "data": {
            "image/png": "1024_10378780_15.png",
            "text/plain": [
              "<IPython.core.display.Image object>"
            ]
          },
          "metadata": {
            "tags": []
          }
        },
        {
          "output_type": "display_data",
          "data": {
            "image/png": "masked_10378780_15.png",
            "text/plain": [
              "<IPython.core.display.Image object>"
            ]
          },
          "metadata": {
            "tags": []
          }
        },
        {
          "output_type": "display_data",
          "data": {
            "image/png": "overlay_10378780_15.png",
            "text/plain": [
              "<IPython.core.display.Image object>"
            ]
          },
          "metadata": {
            "tags": []
          }
        }
      ]
    },
    {
      "cell_type": "code",
      "metadata": {
        "id": "KFCJBDE234KJ"
      },
      "source": [
        "python -V"
      ],
      "execution_count": null,
      "outputs": []
    }
  ]
}